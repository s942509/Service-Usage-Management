{
  "nbformat": 4,
  "nbformat_minor": 0,
  "metadata": {
    "colab": {
      "provenance": []
    },
    "kernelspec": {
      "name": "python3",
      "display_name": "Python 3"
    },
    "language_info": {
      "name": "python"
    }
  },
  "cells": [
    {
      "cell_type": "markdown",
      "source": [
        "#Service-Usage-Management"
      ],
      "metadata": {
        "id": "dIY73WL3s9td"
      }
    },
    {
      "cell_type": "code",
      "source": [
        "customers = [\n",
        "    [\"USER1\", 437, \"Google\", \"Google Chrome\", 1, 0],\n",
        "    [\"USER2\", 3789, \"Microsoft\", \"Microsoft Edge\", 1, 0],\n",
        "    [\"USER3\", 4378, \"Google\", \"Google Chrome\", 2, -1],\n",
        "    [\"USER4\", 1289, \"Microsoft\", \"Microsoft Edge\", 2, 352],\n",
        "    [\"USER5\", 849, \"Microsoft\", \"Microsoft Edge\", 2, 4921],\n",
        "    [\"USER6\", 732, \"Google\", \"Mozilla Firefox\", 2, -1],\n",
        "    [\"USER7\", 3789, \"Google\", \"Microsoft Edge\", 2, 32],\n",
        "    [\"USER8\", 4378, \"Microsoft\", \"Google Chrome\", 2, 10],\n",
        "    [\"USER9\", 472, \"Microsoft\", \"Mozilla Firefox\", 2, 60],\n",
        "    [\"USER10\", 5261, \"Microsoft\", \"Google Chrome\", 1, 421]\n",
        "]\n",
        "\n",
        "# Time Formatting Function\n",
        "def format_time(time):\n",
        "    hours = time // 3600\n",
        "    minutes = (time % 3600) // 60\n",
        "    remaining_time = time % 60\n",
        "    return f\"{hours} hrs, {minutes} min., {remaining_time} sec.\"\n",
        "\n",
        "# Fee Calculation Function\n",
        "def calculate_total(time):\n",
        "    if time < 1800:\n",
        "        total = 1000\n",
        "    else:\n",
        "        total = 1000 + ((time - 1800) // 600) * 300\n",
        "    return total\n",
        "\n",
        "# Buffering Time Calculation\n",
        "def calculate_buffering_time(error_num):\n",
        "    count = 0\n",
        "    while error_num >= 1:\n",
        "        error_num //= 2\n",
        "        count += 1\n",
        "    return count * 5  # 5x Output\n",
        "\n",
        "# Availability Check Function\n",
        "def check_availability(customer):\n",
        "    user_name, _, account, browser, _, _ = customer\n",
        "\n",
        "    if account == \"Google\":\n",
        "        if browser == \"Google Chrome\":\n",
        "            return \"Available\"\n",
        "        else:\n",
        "            print(f\"{user_name}: Please use Google Chrome as browser\")\n",
        "            return \"Not Available\"\n",
        "\n",
        "    elif account == \"Microsoft\":\n",
        "        if browser in [\"Google Chrome\", \"Mozilla Firefox\"]:\n",
        "            print(f\"{user_name}: Please get the plugin for Skype.\")\n",
        "            return \"Not Available\"\n",
        "        elif browser == \"Microsoft Edge\":\n",
        "            return \"Available\"\n",
        "        else:\n",
        "            print(f\"{user_name}: Please use Microsoft Edge as browser\")\n",
        "            return \"Not Available\"\n",
        "\n",
        "    else:\n",
        "        print(f\"{user_name}: Please use Google or Microsoft as account\")\n",
        "        return \"Not Available\"\n",
        "\n",
        "# Main Function: Process All Users\n",
        "def process_customers(customers):\n",
        "    for customer in customers:\n",
        "        name, time, account, browser, question_num, error_num = customer\n",
        "\n",
        "        if check_availability(customer) == \"Available\":\n",
        "\n",
        "            if question_num == 1:\n",
        "                formatted_time = format_time(time)\n",
        "                total_yen = calculate_total(time)\n",
        "                print(f\"{name}: {formatted_time} Total is {total_yen} yen.\")\n",
        "\n",
        "            elif question_num == 2:\n",
        "                if error_num == -1:\n",
        "                    print(f\"{name}: Contract overdue\")\n",
        "                elif error_num > 1:\n",
        "                    buffering_time = calculate_buffering_time(error_num)\n",
        "                    print(f\"{name}: Buffering time last {buffering_time} min.\")\n",
        "\n",
        "# Execute Main Function\n",
        "process_customers(customers)\n"
      ],
      "metadata": {
        "colab": {
          "base_uri": "https://localhost:8080/"
        },
        "id": "HHEvGpy0XdQu",
        "outputId": "43e8cb46-f8ee-4f04-9491-13bb633928d4"
      },
      "execution_count": null,
      "outputs": [
        {
          "output_type": "stream",
          "name": "stdout",
          "text": [
            "USER1: 0 hrs, 7 min., 17 sec. Total is 1000 yen.\n",
            "USER2: 1 hrs, 3 min., 9 sec. Total is 1900 yen.\n",
            "USER3: Contract overdue\n",
            "USER4: Buffering time last 45 min.\n",
            "USER5: Buffering time last 65 min.\n",
            "USER6: Please use Google Chrome as browser\n",
            "USER7: Please use Google Chrome as browser\n",
            "USER8: Please get the plugin for Skype.\n",
            "USER9: Please get the plugin for Skype.\n",
            "USER10: Please get the plugin for Skype.\n"
          ]
        }
      ]
    }
  ]
}